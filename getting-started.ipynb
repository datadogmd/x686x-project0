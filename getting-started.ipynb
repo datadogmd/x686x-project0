{
 "cells": [
  {
   "cell_type": "code",
   "execution_count": 237,
   "id": "9328d1be",
   "metadata": {},
   "outputs": [],
   "source": [
    "import numpy as np\n",
    "def randomization(n, k):\n",
    "    return (np.random.random((n, k)))\n",
    "    #return (np.random.rand(n, k))"
   ]
  },
  {
   "cell_type": "code",
   "execution_count": 238,
   "id": "ce1c7018",
   "metadata": {},
   "outputs": [],
   "source": [
    "def random_scalars(n):\n",
    "    return (np.random.rand(n))"
   ]
  },
  {
   "cell_type": "code",
   "execution_count": 239,
   "id": "ddce2325",
   "metadata": {},
   "outputs": [],
   "source": [
    "def operations(h, w):\n",
    "\n",
    "    A = np.random.rand(h, w)\n",
    "    B = np.random.rand(h, w)\n",
    "    s = A + B\n",
    "    return (A, B, s)"
   ]
  },
  {
   "cell_type": "code",
   "execution_count": 240,
   "id": "cf2bf554",
   "metadata": {},
   "outputs": [],
   "source": [
    "def norm(A, B):\n",
    "    s = A + B\n",
    "    return (np.linalg.norm(s)) # Frobenius norm: L2 norm of the flattend matrix\n",
    "    # return (np.linalg.norm(s, axis=1)) # L2 norm of each row"
   ]
  },
  {
   "cell_type": "code",
   "execution_count": 241,
   "id": "bcd5df2e",
   "metadata": {},
   "outputs": [],
   "source": [
    "def neural_network(inputs, weights):\n",
    "       \"\"\"\n",
    "     Takes an input vector and runs it through a 1-layer neural network\n",
    "     with a given weight matrix and returns the output.\n",
    "\n",
    "     Arg:\n",
    "       inputs - 2 x 1 NumPy array\n",
    "       weights - 2 x 1 NumPy array\n",
    "     Returns (in this order):\n",
    "       out - a 1 x 1 NumPy array, representing the output of the neural network\n",
    "    \"\"\"\n",
    "       weights_T = np.transpose(weights)\n",
    "       product = np.matmul(weights_T, inputs)\n",
    "       return(np.tanh(product)) \n"
   ]
  },
  {
   "cell_type": "code",
   "execution_count": 242,
   "id": "88da4fcb",
   "metadata": {},
   "outputs": [],
   "source": [
    "def scalar_function(x, y):\n",
    "    \"\"\"\n",
    "    Returns:\n",
    "      x * y if x less or equal to y\n",
    "      x / y otherwise\n",
    "      where x and y are scalars.\n",
    "    \"\"\"\n",
    "    if (x <= y):\n",
    "        return (x * y)\n",
    "    else:\n",
    "        if (y != 0):\n",
    "            return (x / y)\n",
    "        else:\n",
    "            print(\"Warning: y = 0 and y < x. This will raise a ZeroDivisionError\")\n",
    "            return (None)\n"
   ]
  },
  {
   "cell_type": "code",
   "execution_count": 243,
   "id": "b775d8df",
   "metadata": {},
   "outputs": [],
   "source": [
    "def vector_function(x, y):\n",
    "    \"\"\"\n",
    "    Returns:\n",
    "      x * y if x less or equal to y\n",
    "      x / y otherwise\n",
    "      where x and y are vectors of the same length.\n",
    "    \"\"\"\n",
    "    results = []\n",
    "    if isinstance(x, np.ndarray) and (isinstance(y, np.ndarray)):\n",
    "        if (x.shape == y.shape):\n",
    "            for x_i, y_i in zip(x, y):\n",
    "                results.append(scalar_function(x_i, y_i))\n",
    "            return (np.array(results))\n",
    "        else:\n",
    "            print(\"x and y have different shapes\")\n",
    "            return (None)\n",
    "    else:\n",
    "        print(\"x and y are scalars?\")\n",
    "        return(scalar_function(x, y))\n"
   ]
  },
  {
   "cell_type": "code",
   "execution_count": null,
   "id": "8a9d6c52",
   "metadata": {},
   "outputs": [],
   "source": [
    "def vectorize_function(x, y):\n",
    "    \"\"\"\n",
    "    Make sure vector_function can deal with vector input x,y\n",
    "    using the np.vectorize() function.\n",
    "    \"\"\"\n",
    "    return np.vectorize(scalar_function)(x,y)"
   ]
  },
  {
   "cell_type": "code",
   "execution_count": 245,
   "id": "6cd23e06",
   "metadata": {},
   "outputs": [
    {
     "name": "stdout",
     "output_type": "stream",
     "text": [
      "[1.07087471 0.22385551 2.37653695 0.89447314 1.36016587 0.42047149]\n",
      "vector_function:\n",
      "[1.07087471 0.22385551 2.37653695 0.89447314 1.36016587 0.42047149]\n"
     ]
    }
   ],
   "source": [
    "def main():\n",
    "\n",
    "    #print(randomization(2, 6))\n",
    "    #A, B, s = operations(2, 1)\n",
    "    # print(A, B)\n",
    "    #print(neural_network(A, B))\n",
    "    #x, y = random_scalars(2)\n",
    "    #y = 0\n",
    "    x, y = randomization(2, 6)\n",
    "    #print(x, y)\n",
    "    print(vectorize_function(x, y))\n",
    "    print(\"vector_function:\")\n",
    "    print(vector_function(x, y))\n",
    "\n",
    "    \n",
    "\n",
    "                  \n",
    "if __name__ == \"__main__\":\n",
    "\n",
    "    main()"
   ]
  }
 ],
 "metadata": {
  "kernelspec": {
   "display_name": ".venv",
   "language": "python",
   "name": "python3"
  },
  "language_info": {
   "codemirror_mode": {
    "name": "ipython",
    "version": 3
   },
   "file_extension": ".py",
   "mimetype": "text/x-python",
   "name": "python",
   "nbconvert_exporter": "python",
   "pygments_lexer": "ipython3",
   "version": "3.12.10"
  }
 },
 "nbformat": 4,
 "nbformat_minor": 5
}
